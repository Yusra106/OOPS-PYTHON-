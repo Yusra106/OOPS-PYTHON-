{
  "nbformat": 4,
  "nbformat_minor": 0,
  "metadata": {
    "colab": {
      "provenance": []
    },
    "kernelspec": {
      "name": "python3",
      "display_name": "Python 3"
    },
    "language_info": {
      "name": "python"
    }
  },
  "cells": [
    {
      "cell_type": "markdown",
      "source": [
        "# **PYTHON OOPS ASSIGNMENT**"
      ],
      "metadata": {
        "id": "7pRoHvPEUFrJ"
      }
    },
    {
      "cell_type": "markdown",
      "source": [
        "# **Theory Questions**"
      ],
      "metadata": {
        "id": "SYQYVt9FUZKA"
      }
    },
    {
      "cell_type": "markdown",
      "source": [
        "Que1. What is Object-Oriented Programming (OOPs)?"
      ],
      "metadata": {
        "id": "0I-Eo0OqUpKp"
      }
    },
    {
      "cell_type": "markdown",
      "source": [
        "Object-Oriented Programming (OOP) is a programming paradigm that organizes software design around objects, which are data structures containing both data (attributes) and code (methods) that operate on that data, rather than functions and logic."
      ],
      "metadata": {
        "id": "t1g8ATXVVn4Y"
      }
    },
    {
      "cell_type": "markdown",
      "source": [
        "Que2. What is a class in OOP?"
      ],
      "metadata": {
        "id": "ugpwOVqtVeSA"
      }
    },
    {
      "cell_type": "markdown",
      "source": [
        "In object-oriented programming (OOP), a class is a blueprint or template for creating objects, defining the shared characteristics (attributes or data) and behaviors (methods or functions) that objects of that class will have."
      ],
      "metadata": {
        "id": "zW_Y4xm0V6i3"
      }
    },
    {
      "cell_type": "markdown",
      "source": [
        "Que3. What is an object in OOP?"
      ],
      "metadata": {
        "id": "B25V4NKCV65A"
      }
    },
    {
      "cell_type": "markdown",
      "source": [
        "In object-oriented programming (OOP), an object is a fundamental unit that encapsulates data (attributes or properties) and the actions (methods or functions) that operate on that data, representing a specific instance of a class."
      ],
      "metadata": {
        "id": "jrRq56iWWBJo"
      }
    },
    {
      "cell_type": "markdown",
      "source": [
        "Que4.  What is the difference between abstraction and encapsulation?"
      ],
      "metadata": {
        "id": "mWiILTn6WBmA"
      }
    },
    {
      "cell_type": "markdown",
      "source": [
        "Abstraction focuses on presenting only essential features and hiding implementation details, while encapsulation bundles data and methods within a class and controls access to them, protecting the internal state."
      ],
      "metadata": {
        "id": "X7VPff_7owe3"
      }
    },
    {
      "cell_type": "markdown",
      "source": [
        "Que5.  What are dunder methods in Python?"
      ],
      "metadata": {
        "id": "69Go_lSjWQHw"
      }
    },
    {
      "cell_type": "markdown",
      "source": [
        "Dunder methods, also known as magic methods, are special methods in Python that begin and end with double underscores (e.g., __init__, __str__, __add__). They provide a way to define how objects of a class should behave with built-in operators, functions, and language constructs. These methods enable operator overloading, customization of object representation, and control over object creation and destruction.\n",
        "\n",
        "Some common dunder methods include:\n",
        "\n",
        "__init__: Initializes an object's state upon creation.\n",
        "\n",
        "__str__: Returns a string representation of an object for end users.\n",
        "\n",
        "__repr__: Returns a string representation of an object for developers.\n",
        "\n",
        "__add__: Defines the behavior of the addition operator (+).\n",
        "\n",
        "__len__: Returns the length of an object.\n",
        "\n",
        "__getitem__: Enables indexing and slicing of objects.\n",
        "\n",
        "__setitem__: Enables assignment to indexed elements.\n",
        "\n",
        "__delitem__: Enables deletion of indexed elements.\n",
        "\n",
        "__eq__: Defines the behavior of the equality operator (==).\n",
        "\n",
        "__lt__: Defines the behavior of the less-than operator (<).\n",
        "\n",
        "__gt__: Defines the behavior of the greater-than operator (>).\n"
      ],
      "metadata": {
        "id": "J7ft3kC_WSyI"
      }
    },
    {
      "cell_type": "markdown",
      "source": [
        "Que.6   Explain the concept of inheritance in OOP."
      ],
      "metadata": {
        "id": "vJhMlADgWTK4"
      }
    },
    {
      "cell_type": "markdown",
      "source": [
        "In Object-Oriented Programming (OOP), inheritance is a mechanism where a new class (subclass or child class) inherits properties and behaviors (methods) from an existing class (superclass or parent class), promoting code reusability and hierarchical relationships between classes."
      ],
      "metadata": {
        "id": "il9jpmZtWZ3A"
      }
    },
    {
      "cell_type": "markdown",
      "source": [
        "Que7.  What is polymorphism in OOP?"
      ],
      "metadata": {
        "id": "DykOXioYWaRI"
      }
    },
    {
      "cell_type": "markdown",
      "source": [
        "In object-oriented programming (OOP), polymorphism (meaning \"many forms\") allows objects of different classes to be treated as objects of a common type, enabling code reusability and flexibility through inheritance and method overriding.\n",
        "\n",
        "Polymorphism is a fundamental concept in OOP that allows you to use a single interface (like a method name) to work with objects of different types, as long as those types are related through inheritance.\n"
      ],
      "metadata": {
        "id": "fPlC_-FMWg8g"
      }
    },
    {
      "cell_type": "markdown",
      "source": [
        "Que8.  How is encapsulation achieved in Python ?"
      ],
      "metadata": {
        "id": "0OuudpB0WhTx"
      }
    },
    {
      "cell_type": "markdown",
      "source": [
        "Encapsulation in Python is achieved through conventions, primarily using access modifiers to control the visibility of class members (attributes and methods). It bundles data and methods that operate on that data within a class, restricting direct access from outside the class. Python uses naming conventions with underscores to indicate the intended level of access:\n",
        "Public Members: Accessible from anywhere. They are defined without any prefix.\n",
        "Protected Members: Intended for use within the class and its subclasses. They are prefixed with a single underscore _.\n",
        "Private Members: Intended for use only within the class. They are prefixed with a double underscore __"
      ],
      "metadata": {
        "id": "DICZvVZEWnRB"
      }
    },
    {
      "cell_type": "code",
      "source": [
        "class BankAccount:\n",
        "    def __init__(self, account_number, balance):\n",
        "        self.__account_number = account_number  # Private attribute\n",
        "        self._balance = balance  # Protected attribute\n",
        "\n",
        "    def get_balance(self):\n",
        "        return self._balance\n",
        "\n",
        "    def deposit(self, amount):\n",
        "        if amount > 0:\n",
        "            self._balance += amount\n",
        "\n",
        "    def withdraw(self, amount):\n",
        "        if 0 < amount <= self._balance:\n",
        "            self._balance -= amount\n",
        "        else:\n",
        "            print(\"Insufficient funds\")\n",
        "\n",
        "    def _display_account_number(self): #Protected method\n",
        "        return self.__account_number #Can access private attribute inside the class\n",
        "\n",
        "account = BankAccount(\"1234567890\", 1000)\n",
        "print(account.get_balance()) # Accessing protected attribute using getter\n",
        "account.deposit(500)\n",
        "print(account.get_balance())\n",
        "account.withdraw(200)\n",
        "print(account.get_balance())\n",
        "# print(account.__account_number) # This will raise an AttributeError\n",
        "print(account._display_account_number()) # Accessing protected method"
      ],
      "metadata": {
        "colab": {
          "base_uri": "https://localhost:8080/"
        },
        "id": "aPcYv1aaqKl6",
        "outputId": "37614469-0280-466b-8a63-64554a5c079c"
      },
      "execution_count": null,
      "outputs": [
        {
          "output_type": "stream",
          "name": "stdout",
          "text": [
            "1000\n",
            "1500\n",
            "1300\n",
            "1234567890\n"
          ]
        }
      ]
    },
    {
      "cell_type": "markdown",
      "source": [
        "Que9. What is a constructor in Python ?"
      ],
      "metadata": {
        "id": "hEybZsqVWoBQ"
      }
    },
    {
      "cell_type": "markdown",
      "source": [
        "In Python, a constructor is a special method used to initialize the attributes of an object when it is created. It is automatically called when an object of a class is instantiated. The constructor method is named __init__. It always takes self as its first parameter, which refers to the instance of the object being created. Additional parameters can be included to initialize object attributes with specific values."
      ],
      "metadata": {
        "id": "iwDCxqflWrMQ"
      }
    },
    {
      "cell_type": "code",
      "source": [
        "class Dog:\n",
        "    def __init__(self, name, breed):\n",
        "        self.name = name\n",
        "        self.breed = breed\n",
        "\n",
        "    def bark(self):\n",
        "        return \"Woof!\"\n",
        "\n",
        "my_dog = Dog(\"Buddy\", \"Golden Retriever\")\n",
        "print(my_dog.name)\n",
        "print(my_dog.breed)\n",
        "print(my_dog.bark())"
      ],
      "metadata": {
        "colab": {
          "base_uri": "https://localhost:8080/"
        },
        "id": "dzqOS3QhqmsK",
        "outputId": "6efd7b1e-06c6-425c-e917-e4f96a0977bd"
      },
      "execution_count": null,
      "outputs": [
        {
          "output_type": "stream",
          "name": "stdout",
          "text": [
            "Buddy\n",
            "Golden Retriever\n",
            "Woof!\n"
          ]
        }
      ]
    },
    {
      "cell_type": "markdown",
      "source": [
        "In the example, __init__ is the constructor, which initializes the name and breed attributes of the Dog object. When my_dog = Dog(\"Buddy\", \"Golden Retriever\") is executed, the __init__ method is automatically called, setting my_dog.name to \"Buddy\" and my_dog.breed to \"Golden Retriever\"."
      ],
      "metadata": {
        "id": "uvxhL2xzqo3j"
      }
    },
    {
      "cell_type": "markdown",
      "source": [
        "Que10.  What are class and static methods in Python ?"
      ],
      "metadata": {
        "id": "Y1TZFdGpWy0o"
      }
    },
    {
      "cell_type": "markdown",
      "source": [
        "In Python, class and static methods are special types of methods bound to a class rather than an instance of the class. They serve different purposes and are defined using decorators.\n",
        "Class methods:\n",
        "They are defined using the @classmethod decorator.\n",
        "They receive the class itself as the first argument, conventionally named cls.\n",
        "They can access and modify class-level attributes.\n",
        "They cannot access instance-specific attributes.\n",
        "They are often used as factory methods for creating instances of the class or for performing operations that relate to the class as a whole.\n",
        "Static methods:\n",
        "They are defined using the @staticmethod decorator.\n",
        "They do not receive any implicit first argument (neither the instance nor the class).\n",
        "They cannot access or modify class-level or instance-level attributes directly.\n",
        "They are essentially regular functions that are grouped within a class for organizational purposes.\n",
        "They are often used for utility functions that do not depend on the state of the class or its instances."
      ],
      "metadata": {
        "id": "fLBRqgExW3oI"
      }
    },
    {
      "cell_type": "code",
      "source": [
        "class MyClass:\n",
        "    class_variable = 0\n",
        "\n",
        "    def __init__(self, instance_variable):\n",
        "        self.instance_variable = instance_variable\n",
        "\n",
        "    @classmethod\n",
        "    def class_method(cls):\n",
        "        cls.class_variable += 1\n",
        "        return cls.class_variable\n",
        "\n",
        "    @staticmethod\n",
        "    def static_method(x, y):\n",
        "        return x + y\n",
        "\n",
        "# Calling class method\n",
        "print(MyClass.class_method())  # Output: 1\n",
        "print(MyClass.class_method())  # Output: 2\n",
        "\n",
        "# Calling static method\n",
        "print(MyClass.static_method(5, 3))  # Output: 8\n",
        "\n",
        "# Calling instance method\n",
        "instance = MyClass(10)\n",
        "print(instance.instance_variable) # Output: 10"
      ],
      "metadata": {
        "colab": {
          "base_uri": "https://localhost:8080/"
        },
        "id": "wuJ4Ty5TrEdk",
        "outputId": "7d945060-ecc0-4109-f2e2-548d1ab363a7"
      },
      "execution_count": null,
      "outputs": [
        {
          "output_type": "stream",
          "name": "stdout",
          "text": [
            "1\n",
            "2\n",
            "8\n",
            "10\n"
          ]
        }
      ]
    },
    {
      "cell_type": "markdown",
      "source": [
        "Que11.  What is method overloading in Python ?"
      ],
      "metadata": {
        "id": "wMsXOYLCW__A"
      }
    },
    {
      "cell_type": "markdown",
      "source": [
        "Method overloading in Python refers to the ability to define multiple methods in a class with the same name but with different parameters. However, Python doesn't support method overloading in the traditional sense like some other languages (e.g., Java, C++). In those languages, you can have multiple methods with the same name but different signatures (different number or types of arguments), and the compiler or interpreter will choose the correct method to call based on the arguments provided.\n",
        "In Python, if you define multiple methods with the same name in a class, the last definition will override any previous definitions. This means that only the last defined method will be accessible."
      ],
      "metadata": {
        "id": "00u74qxpXKMY"
      }
    },
    {
      "cell_type": "code",
      "source": [
        "class MyClass:\n",
        "    def my_method(self, a):\n",
        "        print(\"First version:\", a)\n",
        "\n",
        "    def my_method(self, a, b):\n",
        "        print(\"Second version:\", a, b)\n",
        "\n",
        "obj = MyClass()\n",
        "# obj.my_method(1) # This will cause an error because the first definition is overridden\n",
        "obj.my_method(1, 2)  # Output: Second version: 1 2"
      ],
      "metadata": {
        "colab": {
          "base_uri": "https://localhost:8080/"
        },
        "id": "0bZc8bCVrZ65",
        "outputId": "06639b1a-8486-4c3b-b69f-0d2fd72af89c"
      },
      "execution_count": null,
      "outputs": [
        {
          "output_type": "stream",
          "name": "stdout",
          "text": [
            "Second version: 1 2\n"
          ]
        }
      ]
    },
    {
      "cell_type": "markdown",
      "source": [
        "Despite this limitation, Python offers alternative ways to achieve similar functionality, such as using default arguments, variable-length arguments (*args and **kwargs), or conditional logic within a single method to handle different cases."
      ],
      "metadata": {
        "id": "MuB3sZC0rlQJ"
      }
    },
    {
      "cell_type": "code",
      "source": [
        "class MyClass:\n",
        "    def my_method(self, a, b=None):\n",
        "        if b is None:\n",
        "            print(\"One argument:\", a)\n",
        "        else:\n",
        "            print(\"Two arguments:\", a, b)\n",
        "\n",
        "obj = MyClass()\n",
        "obj.my_method(1)       # Output: One argument: 1\n",
        "obj.my_method(1, 2)    # Output: Two arguments: 1 2"
      ],
      "metadata": {
        "colab": {
          "base_uri": "https://localhost:8080/"
        },
        "id": "Ze1tclhvrh0k",
        "outputId": "89c21497-869f-4ebe-8ba3-726696501068"
      },
      "execution_count": null,
      "outputs": [
        {
          "output_type": "stream",
          "name": "stdout",
          "text": [
            "One argument: 1\n",
            "Two arguments: 1 2\n"
          ]
        }
      ]
    },
    {
      "cell_type": "markdown",
      "source": [
        "Que12.  What is method overriding in OOP ?"
      ],
      "metadata": {
        "id": "inVMYy5oXKiR"
      }
    },
    {
      "cell_type": "markdown",
      "source": [
        "Method overriding in Python is a feature in object-oriented programming where a subclass provides its own implementation of a method that is already defined in its superclass. When a method in a subclass has the same name, parameters, and return type as a method in its superclass, the subclass's method overrides the superclass's method. This allows for customizing or extending the behavior of inherited methods."
      ],
      "metadata": {
        "id": "eERGO8t0XNhh"
      }
    },
    {
      "cell_type": "code",
      "source": [
        "class Animal:\n",
        "    def speak(self):\n",
        "        print(\"Generic animal sound\")\n",
        "\n",
        "class Dog(Animal):\n",
        "    def speak(self):\n",
        "        print(\"Woof!\")\n",
        "\n",
        "class Cat(Animal):\n",
        "    def speak(self):\n",
        "        print(\"Meow!\")\n",
        "\n",
        "animal = Animal()\n",
        "dog = Dog()\n",
        "cat = Cat()\n",
        "\n",
        "animal.speak() # Output: Generic animal sound\n",
        "dog.speak()    # Output: Woof!\n",
        "cat.speak()    # Output: Meow!"
      ],
      "metadata": {
        "colab": {
          "base_uri": "https://localhost:8080/"
        },
        "id": "w4HYdP3Wr3_F",
        "outputId": "033402e6-4af6-4456-b1e0-1dcc52ae4b58"
      },
      "execution_count": null,
      "outputs": [
        {
          "output_type": "stream",
          "name": "stdout",
          "text": [
            "Generic animal sound\n",
            "Woof!\n",
            "Meow!\n"
          ]
        }
      ]
    },
    {
      "cell_type": "markdown",
      "source": [
        "Que13.  What is a property decorator in Python ?"
      ],
      "metadata": {
        "id": "_oVCM2MvXN5g"
      }
    },
    {
      "cell_type": "markdown",
      "source": [
        "In Python, a property decorator is a built-in feature that allows methods to be accessed like attributes. It provides a way to encapsulate attribute access, enabling control over getting, setting, and deleting attribute values. The @property decorator is used to define the \"getter\" method, while corresponding @attribute.setter and @attribute.deleter decorators can be used to define the \"setter\" and \"deleter\" methods, respectively."
      ],
      "metadata": {
        "id": "f7qYU-G1XTcp"
      }
    },
    {
      "cell_type": "code",
      "source": [
        "class MyClass:\n",
        "    def __init__(self, value):\n",
        "        self._value = value\n",
        "\n",
        "    @property\n",
        "    def value(self):\n",
        "        \"\"\"Getter method for the 'value' attribute.\"\"\"\n",
        "        return self._value\n",
        "\n",
        "    @value.setter\n",
        "    def value(self, new_value):\n",
        "        \"\"\"Setter method for the 'value' attribute.\"\"\"\n",
        "        if new_value < 0:\n",
        "            raise ValueError(\"Value cannot be negative\")\n",
        "        self._value = new_value\n",
        "\n",
        "    @value.deleter\n",
        "    def value(self):\n",
        "        \"\"\"Deleter method for the 'value' attribute.\"\"\"\n",
        "        del self._value"
      ],
      "metadata": {
        "id": "gx9qOe_JsGUX"
      },
      "execution_count": null,
      "outputs": []
    },
    {
      "cell_type": "markdown",
      "source": [
        "Que14. Why is polymorphism important in OOP ?"
      ],
      "metadata": {
        "id": "2VW-KK5zXT4I"
      }
    },
    {
      "cell_type": "markdown",
      "source": [
        "Polymorphism is crucial in Object-Oriented Programming (OOP) because it enables code reusability, flexibility, and extensibility by allowing different objects to respond to the same method call in their own unique ways, promoting a more organized and maintainable codebase."
      ],
      "metadata": {
        "id": "UrPcnmNqXYuY"
      }
    },
    {
      "cell_type": "markdown",
      "source": [
        "Que15. What is an abstract class in Python ?"
      ],
      "metadata": {
        "id": "Gst-EuTNXZGB"
      }
    },
    {
      "cell_type": "markdown",
      "source": [
        "An abstract class in Python is a class that cannot be instantiated directly and serves as a blueprint for other classes. It defines a common interface for its subclasses, ensuring they implement specific methods. Abstract classes are declared using the abc module and the ABC class as a base. Abstract methods, denoted by the @abstractmethod decorator, are declared without implementation within the abstract class and must be implemented by its subclasses."
      ],
      "metadata": {
        "id": "ZAhM0XukXeb4"
      }
    },
    {
      "cell_type": "code",
      "source": [
        "from abc import ABC, abstractmethod\n",
        "\n",
        "class AbstractClass(ABC):\n",
        "    @abstractmethod\n",
        "    def abstract_method(self):\n",
        "        pass\n",
        "\n",
        "    def concrete_method(self):\n",
        "        print(\"This is a concrete method.\")\n",
        "\n",
        "class ConcreteClass(AbstractClass):\n",
        "    def abstract_method(self):\n",
        "        print(\"Implementation of abstract_method in ConcreteClass.\")\n",
        "\n",
        "# Cannot instantiate AbstractClass directly\n",
        "# obj = AbstractClass() # Raises TypeError\n",
        "\n",
        "obj = ConcreteClass()\n",
        "obj.abstract_method() # Output: Implementation of abstract_method in ConcreteClass.\n",
        "obj.concrete_method() # Output: This is a concrete method.\n"
      ],
      "metadata": {
        "colab": {
          "base_uri": "https://localhost:8080/"
        },
        "id": "nJXD3vPItL4x",
        "outputId": "92edd6a3-9f81-4858-b1af-d5194d7170e5"
      },
      "execution_count": null,
      "outputs": [
        {
          "output_type": "stream",
          "name": "stdout",
          "text": [
            "Implementation of abstract_method in ConcreteClass.\n",
            "This is a concrete method.\n"
          ]
        }
      ]
    },
    {
      "cell_type": "markdown",
      "source": [
        "In this example, AbstractClass cannot be instantiated because it has an abstract method, abstract_method. ConcreteClass inherits from AbstractClass and provides an implementation for abstract_method, allowing it to be instantiated. Attempting to instantiate AbstractClass directly would raise a TypeError."
      ],
      "metadata": {
        "id": "CGHz_XO5tNWw"
      }
    },
    {
      "cell_type": "markdown",
      "source": [
        "Que16. What are the advantages of OOP ?"
      ],
      "metadata": {
        "id": "jtHy_iOzXet4"
      }
    },
    {
      "cell_type": "markdown",
      "source": [
        "Object-Oriented Programming (OOP) offers advantages like improved code organization through encapsulation, reusability via inheritance, flexibility with polymorphism, and simplification of complex systems through abstraction, leading to modular, maintainable, and scalable software solutions.\n",
        "\n",
        "Here's a more detailed breakdown of the advantages of OOP:\n",
        "\n",
        "1.**Enhanced Code Organization and Maintainability**:\n",
        "\n",
        "**Modularity**:\n",
        "OOP promotes modular programming, allowing developers to divide complex problems into smaller, manageable modules (classes).\n",
        "**Encapsulation**:\n",
        "Encapsulation, a key OOP concept, bundles data and the methods that operate on that data within a class, hiding internal details and exposing only essential functionality through interfaces.\n",
        "**Code Readability**:\n",
        "The clear structure and separation of concerns provided by OOP make code easier to read, understand, and maintain.\n",
        "Easier Troubleshooting:\n",
        "OOP's modular nature makes it easier to identify and isolate problems, simplifying debugging and maintenance.\n",
        "2. **Reusability and Productivity**:\n",
        "\n",
        "**Code Reusability**:\n",
        "OOP promotes code reusability by allowing developers to create classes and objects that can be reused in different parts of the code, saving time and effort.\n",
        "**Inheritance**:\n",
        "Inheritance allows child classes to inherit properties and behaviors from parent classes, further promoting code reuse and reducing redundancy.\n",
        "Increased Productivity:\n",
        "OOP's features, such as reusability and modularity, can significantly increase developer productivity, allowing for faster development cycles and easier maintenance.\n",
        "3. **Flexibility and Scalability**:\n",
        "\n",
        "**Polymorphism**:\n",
        "Polymorphism, meaning \"many forms,\" allows objects of different classes to be treated as objects of a common type, providing flexibility and adaptability.\n",
        "Scalability:\n",
        "OOP supports scalability by allowing you to add new objects and classes as the system grows, making it easier to accommodate changes and enhancements in the software.\n",
        "**Flexibility**:\n",
        "OOP allows for greater flexibility in programming, as it supports multiple programming styles, including procedural, functional, and event-driven programming.\n",
        "4. **Security**:\n",
        "\n",
        "**Data Hiding**:\n",
        "OOP's encapsulation and access control mechanisms (via access specifiers) help protect data from unauthorized access, enhancing security.\n",
        "\n",
        "**Secure Design Patterns**:\n",
        "OOP supports secure design patterns that further fortify software against potential threats, contributing to a robust and resilient security posture."
      ],
      "metadata": {
        "id": "61pVDmwEXmr4"
      }
    },
    {
      "cell_type": "markdown",
      "source": [
        "Que17.  What is the difference between a class variable and an instance variable ?"
      ],
      "metadata": {
        "id": "bjWKENzlXu0w"
      }
    },
    {
      "cell_type": "markdown",
      "source": [
        "**Class Variable:**\n",
        "\n",
        "**Definition**:\n",
        "\n",
        "Declared within a class but outside any method, constructor, or block, and typically marked with the static keyword (in languages like Java).\n",
        "\n",
        "**Scope:**\n",
        "Belongs to the class itself, not to any specific object.\n",
        "\n",
        "**Memory:**\n",
        "Only one copy of a class variable exists, shared by all instances of the class.\n",
        "\n",
        "**Access:**\n",
        "Can be accessed directly using the class name (e.g., ClassName.variableName).\n",
        "\n",
        "**Use Cases:**\n",
        "Suitable for storing data that is common to all instances, like a constant value or a counter for the number of objects created.\n",
        "\n",
        "\n",
        "**Instance Variable: **\n",
        "\n",
        "**Definition:**\n",
        "\n",
        "Declared within a class but outside any method, constructor, or block, and is not marked as static.\n",
        "\n",
        "**Scope:**\n",
        "Each instance (object) of the class has its own copy of the instance variable.\n",
        "\n",
        "**Memory:**\n",
        "A new copy of the instance variable is created for each object when it is instantiated, and destroyed when the object is destroyed.\n",
        "\n",
        "**Access:**\n",
        "Accessed using an object reference (e.g., objectName.variableName).\n",
        "\n",
        "**Use Cases:**\n",
        "Ideal for storing data that is unique to each instance, like the name or age of a person.\n",
        "\n"
      ],
      "metadata": {
        "id": "P22uf8tAX2e5"
      }
    },
    {
      "cell_type": "markdown",
      "source": [
        "Que18. What is multiple inheritance in Python ?"
      ],
      "metadata": {
        "id": "aL_z5idWYTlT"
      }
    },
    {
      "cell_type": "markdown",
      "source": [
        "Multiple inheritance in Python is a feature that allows a class to inherit attributes and methods from more than one parent class. This means a child class can possess characteristics and behaviors defined in multiple independent classes."
      ],
      "metadata": {
        "id": "44A20cTeYcJA"
      }
    },
    {
      "cell_type": "code",
      "source": [
        "class Base1:\n",
        "    def method_base1(self):\n",
        "        print(\"Method from Base1\")\n",
        "\n",
        "class Base2:\n",
        "    def method_base2(self):\n",
        "        print(\"Method from Base2\")\n",
        "\n",
        "class Derived(Base1, Base2):\n",
        "    def method_derived(self):\n",
        "        print(\"Method from Derived\")\n",
        "\n",
        "# Creating an object of the Derived class\n",
        "obj = Derived()\n",
        "\n",
        "# Calling methods from all parent classes and the derived class\n",
        "obj.method_base1()\n",
        "obj.method_base2()\n",
        "obj.method_derived()"
      ],
      "metadata": {
        "colab": {
          "base_uri": "https://localhost:8080/"
        },
        "id": "5CsacjLs0vrq",
        "outputId": "f4d40595-c4ef-482b-d68b-9e713d9f3552"
      },
      "execution_count": null,
      "outputs": [
        {
          "output_type": "stream",
          "name": "stdout",
          "text": [
            "Method from Base1\n",
            "Method from Base2\n",
            "Method from Derived\n"
          ]
        }
      ]
    },
    {
      "cell_type": "markdown",
      "source": [
        "Que19. Explain the purpose of ‘’__str__’ and ‘__repr__’ ‘ methods in Python ?"
      ],
      "metadata": {
        "id": "L2Baz8KkYAF5"
      }
    },
    {
      "cell_type": "markdown",
      "source": [
        "The str() and repr() methods in Python are both used to obtain string representations of objects, but they serve different purposes:\n",
        "\n",
        "**str():**\n",
        "This method aims to return a user-friendly, informal, or nicely printable string representation of an object. It is intended for the end-user and focuses on readability. When you call print() on an object, Python implicitly calls its str() method (if defined) to get the string to display.\n",
        "\n",
        "**repr():**\n",
        "This method aims to return an unambiguous, detailed, and \"official\" string representation of an object. It is primarily intended for developers and debugging. Ideally, the string returned by repr() should be able to recreate the object when passed to eval(). If str() is not defined for an object, Python falls back to using repr() when str() is called."
      ],
      "metadata": {
        "id": "MCa5_IT_Yp4g"
      }
    },
    {
      "cell_type": "markdown",
      "source": [
        "Que20. What is the significance of the ‘super()’ function in Python ?"
      ],
      "metadata": {
        "id": "Us6sCO3XYqQY"
      }
    },
    {
      "cell_type": "markdown",
      "source": [
        "The super() function in Python is used to call methods from a parent class in a subclass. Its primary significance lies in facilitating code reuse, promoting maintainability, and correctly handling complex inheritance scenarios, particularly multiple inheritance. It returns a temporary object of the parent class, allowing access to its methods."
      ],
      "metadata": {
        "id": "lqlYQ-fsY4By"
      }
    },
    {
      "cell_type": "markdown",
      "source": [
        "Que21.  What is the significance of the __del__ method in Python"
      ],
      "metadata": {
        "id": "SHx6Q6-xY4VQ"
      }
    },
    {
      "cell_type": "markdown",
      "source": [
        "The del statement in Python serves to remove references to objects. It can delete variables, items from lists and dictionaries, or even slices of lists. It's important to note that del doesn't necessarily deallocate the memory occupied by the object immediately, as that's handled by Python's garbage collector. Instead, del unbinds the name from the object, making the name no longer valid. If the object has no other references, it becomes eligible for garbage collection.\n",
        "When used with mutable objects like lists and dictionaries, del can modify the object in place. For example, del my_list[0] removes the first element of the list. With immutable objects like strings and tuples, del can delete the entire object but not specific items within it. Attempting to delete a built-in name will result in a NameError."
      ],
      "metadata": {
        "id": "SiNr_aSKY6Rg"
      }
    },
    {
      "cell_type": "code",
      "source": [
        "my_list = [1, 2, 3, 4, 5]\n",
        "del my_list[2]  # Removes the element at index 2 (value 3)\n",
        "print(my_list)  # Output: [1, 2, 4, 5]\n",
        "\n",
        "my_dict = {'a': 1, 'b': 2, 'c': 3}\n",
        "del my_dict['b']  # Removes the key-value pair with key 'b'\n",
        "print(my_dict)  # Output: {'a': 1, 'c': 3}\n",
        "\n",
        "x = 10\n",
        "del x  # Deletes the variable x\n",
        "# print(x)  # This would raise a NameError because x no longer exists"
      ],
      "metadata": {
        "colab": {
          "base_uri": "https://localhost:8080/"
        },
        "id": "a2gojcPT2B3h",
        "outputId": "5ff7391b-5032-4bf6-f2ed-6d97699b4636"
      },
      "execution_count": null,
      "outputs": [
        {
          "output_type": "stream",
          "name": "stdout",
          "text": [
            "[1, 2, 4, 5]\n",
            "{'a': 1, 'c': 3}\n"
          ]
        }
      ]
    },
    {
      "cell_type": "markdown",
      "source": [
        "Que22. What is the difference between @staticmethod and @classmethod in Python ?"
      ],
      "metadata": {
        "id": "CHB9qNYzY6uo"
      }
    },
    {
      "cell_type": "markdown",
      "source": [
        "The distinction between @staticmethod and @classmethod in Python lies in their interaction with the class and its instances.\n",
        "\n",
        "**@staticmethod:**\n",
        "This decorator defines a method that doesn't receive any implicit arguments (neither the instance self nor the class cls). It's essentially a regular function that happens to reside within a class's scope. Static methods cannot access or modify the class or instance state directly.\n",
        "\n",
        "**@classmethod:**\n",
        "This decorator defines a method that receives the class itself as the first argument, conventionally named cls. Class methods can access and modify class-level attributes and are often used for factory methods or operations involving the class itself rather than a specific instance."
      ],
      "metadata": {
        "id": "Ruqe3qIoZAD4"
      }
    },
    {
      "cell_type": "markdown",
      "source": [
        "Que23. How does polymorphism work in Python with inheritance?"
      ],
      "metadata": {
        "id": "0-TIZddFZAWS"
      }
    },
    {
      "cell_type": "markdown",
      "source": [
        "Polymorphism in Python, specifically with inheritance, allows objects of different classes to respond to the same method call in their own specific ways. This is achieved through method overriding, where a subclass provides its own implementation of a method already defined in its superclass. When a method is called on an object, Python determines the appropriate method to execute based on the object's actual type, enabling flexibility and adaptability in code.\n",
        "\n",
        "**For example** , consider a Shape class with a calculate_area() method. Subclasses like Circle and Square can override this method to provide their specific area calculation logic. When calculate_area() is called on a Circle object, it executes the Circle's implementation, while calling it on a Square object executes the Square's implementation. This demonstrates polymorphism, where the same method call behaves differently based on the object's type"
      ],
      "metadata": {
        "id": "rgad2iuCZMwo"
      }
    },
    {
      "cell_type": "code",
      "source": [
        "class Shape:\n",
        "    def calculate_area(self):\n",
        "        raise NotImplementedError(\"Subclasses must implement this method\")\n",
        "\n",
        "class Circle(Shape):\n",
        "    def __init__(self, radius):\n",
        "        self.radius = radius\n",
        "\n",
        "    def calculate_area(self):\n",
        "        return 3.14 * self.radius * self.radius\n",
        "\n",
        "class Square(Shape):\n",
        "    def __init__(self, side):\n",
        "        self.side = side\n",
        "\n",
        "    def calculate_area(self):\n",
        "        return self.side * self.side\n",
        "\n",
        "shapes = [Circle(5), Square(4)]\n",
        "for shape in shapes:\n",
        "    print(f\"Area: {shape.calculate_area()}\")"
      ],
      "metadata": {
        "colab": {
          "base_uri": "https://localhost:8080/"
        },
        "id": "UOKAEtve3ZdK",
        "outputId": "5bb74e94-664f-4a39-f538-90246377e123"
      },
      "execution_count": null,
      "outputs": [
        {
          "output_type": "stream",
          "name": "stdout",
          "text": [
            "Area: 78.5\n",
            "Area: 16\n"
          ]
        }
      ]
    },
    {
      "cell_type": "markdown",
      "source": [
        "Que24. What is method chaining in Python OOP ?"
      ],
      "metadata": {
        "id": "UOix52zSZNDA"
      }
    },
    {
      "cell_type": "markdown",
      "source": [
        "Method chaining in Python is a programming technique used in object-oriented programming where multiple methods are called sequentially on the same object. It enhances code readability and conciseness by eliminating the need for intermediate variables.\n",
        "To implement method chaining, each method in the class should return self (the instance of the object). This allows subsequent methods to be called directly on the result of the previous method."
      ],
      "metadata": {
        "id": "rFmoLS0uZPYY"
      }
    },
    {
      "cell_type": "code",
      "source": [
        "class Calculator:\n",
        "    def __init__(self, value=0):\n",
        "        self.value = value\n",
        "\n",
        "    def add(self, num):\n",
        "        self.value += num\n",
        "        return self\n",
        "\n",
        "    def subtract(self, num):\n",
        "        self.value -= num\n",
        "        return self\n",
        "\n",
        "    def multiply(self, num):\n",
        "        self.value *= num\n",
        "        return self\n",
        "\n",
        "    def get_value(self):\n",
        "        return self.value\n",
        "\n",
        "calc = Calculator(10)\n",
        "result = calc.add(5).subtract(3).multiply(2).get_value()\n",
        "print(result) # Output: 24"
      ],
      "metadata": {
        "colab": {
          "base_uri": "https://localhost:8080/"
        },
        "id": "CY4uIeXL3nhq",
        "outputId": "7cf3e20c-0119-4f35-d3fb-9e05037b8887"
      },
      "execution_count": null,
      "outputs": [
        {
          "output_type": "stream",
          "name": "stdout",
          "text": [
            "24\n"
          ]
        }
      ]
    },
    {
      "cell_type": "markdown",
      "source": [
        "In this example, add, subtract, and multiply methods all return self, allowing them to be chained together. This approach makes the code more fluent and easier to read compared to writing each operation on a separate line."
      ],
      "metadata": {
        "id": "J7ZcZfNi3rLa"
      }
    },
    {
      "cell_type": "markdown",
      "source": [
        "Que25. What is the purpose of the __call__ method in Python?"
      ],
      "metadata": {
        "id": "R1SwX_aHZQBx"
      }
    },
    {
      "cell_type": "markdown",
      "source": [
        "The __call__ method in Python enables instances of a class to be called like regular functions. When an object is called (e.g., obj()), Python automatically invokes the __call__ method defined within the object's class. This provides a way to create objects that have function-like behavior, allowing them to encapsulate state and logic while still being callable."
      ],
      "metadata": {
        "id": "5n7pHAL2ZV-A"
      }
    },
    {
      "cell_type": "code",
      "source": [
        "class Counter:\n",
        "    def __init__(self):\n",
        "        self.count = 0\n",
        "\n",
        "    def __call__(self):\n",
        "        self.count += 1\n",
        "        return self.count\n",
        "\n",
        "# Create an instance of the Counter class\n",
        "my_counter = Counter()\n",
        "\n",
        "# Call the instance like a function\n",
        "print(my_counter())  # Output: 1\n",
        "print(my_counter())  # Output: 2\n",
        "print(my_counter())  # Output: 3"
      ],
      "metadata": {
        "colab": {
          "base_uri": "https://localhost:8080/"
        },
        "id": "nU4G1Rmx33r4",
        "outputId": "e6ee1885-9fea-4e5d-a7c1-e10ec12dd77d"
      },
      "execution_count": null,
      "outputs": [
        {
          "output_type": "stream",
          "name": "stdout",
          "text": [
            "1\n",
            "2\n",
            "3\n"
          ]
        }
      ]
    },
    {
      "cell_type": "markdown",
      "source": [
        "# **Practical Questions**"
      ],
      "metadata": {
        "id": "5ERlDVZXUfLI"
      }
    },
    {
      "cell_type": "markdown",
      "source": [
        "1. Create a parent class Animal with a method speak() that prints a generic message. Create a child class Dog that overrides the speak() method to print \"Bark!\"."
      ],
      "metadata": {
        "id": "Pjs_iQ7iUnho"
      }
    },
    {
      "cell_type": "code",
      "source": [
        "class Animal:\n",
        "    def speak(self):\n",
        "        print(\"Generic animal sound\")\n",
        "\n",
        "class Dog(Animal):\n",
        "    def speak(self):\n",
        "        print(\"Bark!\")\n",
        "\n",
        "# Example usage\n",
        "animal = Animal()\n",
        "animal.speak()  # Output: Generic animal sound\n",
        "\n",
        "dog = Dog()\n",
        "dog.speak()  # Output: Bark!\n"
      ],
      "metadata": {
        "id": "l-MAgrw0Z3Up",
        "colab": {
          "base_uri": "https://localhost:8080/"
        },
        "outputId": "8896c362-f156-4976-8e47-e48afb425f1d"
      },
      "execution_count": null,
      "outputs": [
        {
          "output_type": "stream",
          "name": "stdout",
          "text": [
            "Generic animal sound\n",
            "Bark!\n"
          ]
        }
      ]
    },
    {
      "cell_type": "markdown",
      "source": [
        "2. Write a program to create an abstract class Shape with a method area(). Derive classes Circle and Rectangle from it and implement the area() method in both."
      ],
      "metadata": {
        "id": "UNqrmm-dZ7OQ"
      }
    },
    {
      "cell_type": "code",
      "source": [
        "from abc import ABC, abstractmethod\n",
        "import math\n",
        "\n",
        "class Shape(ABC):\n",
        "    @abstractmethod\n",
        "    def area(self):\n",
        "        pass\n",
        "\n",
        "class Circle(Shape):\n",
        "    def __init__(self, radius):\n",
        "        self.radius = radius\n",
        "\n",
        "    def area(self):\n",
        "        return math.pi * self.radius**2\n",
        "\n",
        "class Rectangle(Shape):\n",
        "    def __init__(self, width, height):\n",
        "        self.width = width\n",
        "        self.height = height\n",
        "\n",
        "    def area(self):\n",
        "        return self.width * self.height\n",
        "\n",
        "# Example usage\n",
        "circle = Circle(5)\n",
        "print(f\"Circle area: {circle.area()}\")\n",
        "\n",
        "rectangle = Rectangle(4, 6)\n",
        "print(f\"Rectangle area: {rectangle.area()}\")\n"
      ],
      "metadata": {
        "colab": {
          "base_uri": "https://localhost:8080/"
        },
        "id": "hj1Ku9lo4386",
        "outputId": "3fed21a4-1c10-4bfb-c0dc-26779906224a"
      },
      "execution_count": null,
      "outputs": [
        {
          "output_type": "stream",
          "name": "stdout",
          "text": [
            "Circle area: 78.53981633974483\n",
            "Rectangle area: 24\n"
          ]
        }
      ]
    },
    {
      "cell_type": "markdown",
      "source": [
        "3. Implement a multi-level inheritance scenario where a class Vehicle has an attribute type. Derive a class Car and further derive a class ElectricCar that adds a battery attribute."
      ],
      "metadata": {
        "id": "3ng1QT1jZ-Vw"
      }
    },
    {
      "cell_type": "code",
      "source": [
        "class Vehicle:\n",
        "    def __init__(self, type):\n",
        "        self.type = type\n",
        "\n",
        "class Car(Vehicle):\n",
        "    def __init__(self, type, model):\n",
        "        super().__init__(type)\n",
        "        self.model = model\n",
        "\n",
        "class ElectricCar(Car):\n",
        "    def __init__(self, type, model, battery_capacity):\n",
        "        super().__init__(type, model)\n",
        "        self.battery_capacity = battery_capacity\n",
        "\n",
        "# Example usage\n",
        "my_electric_car = ElectricCar(\"electric\", \"Model S\", \"100 kWh\")\n",
        "print(f\"Vehicle type: {my_electric_car.type}\")\n",
        "print(f\"Car model: {my_electric_car.model}\")\n",
        "print(f\"Battery capacity: {my_electric_car.battery_capacity}\")\n"
      ],
      "metadata": {
        "id": "pV6VHC8faCHA",
        "colab": {
          "base_uri": "https://localhost:8080/"
        },
        "outputId": "a212717e-396d-4511-dea8-155e632d329a"
      },
      "execution_count": null,
      "outputs": [
        {
          "output_type": "stream",
          "name": "stdout",
          "text": [
            "Vehicle type: electric\n",
            "Car model: Model S\n",
            "Battery capacity: 100 kWh\n"
          ]
        }
      ]
    },
    {
      "cell_type": "markdown",
      "source": [
        "4. Demonstrate polymorphism by creating a base class Bird with a method fly(). Create two derived classes Sparrow and Penguin that override the fly() method."
      ],
      "metadata": {
        "id": "q0wobSyoaCpQ"
      }
    },
    {
      "cell_type": "code",
      "source": [
        "class Bird:\n",
        "    def fly(self):\n",
        "        print(\"Generic bird flying\")\n",
        "\n",
        "class Sparrow(Bird):\n",
        "    def fly(self):\n",
        "        print(\"Sparrow is flying\")\n",
        "\n",
        "class Penguin(Bird):\n",
        "    def fly(self):\n",
        "        print(\"Penguin cannot fly\")\n",
        "\n",
        "# Example usage\n",
        "sparrow = Sparrow()\n",
        "sparrow.fly()  # Output: Sparrow is flying\n",
        "\n",
        "penguin = Penguin()\n",
        "penguin.fly()  # Output: Penguin cannot fly\n"
      ],
      "metadata": {
        "id": "cYeYb1X4aF-5",
        "colab": {
          "base_uri": "https://localhost:8080/"
        },
        "outputId": "e4c363ab-5404-47dc-a4d0-9371d9e00fa6"
      },
      "execution_count": null,
      "outputs": [
        {
          "output_type": "stream",
          "name": "stdout",
          "text": [
            "Sparrow is flying\n",
            "Penguin cannot fly\n"
          ]
        }
      ]
    },
    {
      "cell_type": "markdown",
      "source": [
        "5. Write a program to demonstrate encapsulation by creating a class BankAccount with private attributes balance and methods to deposit, withdraw, and check balance."
      ],
      "metadata": {
        "id": "CqdHmB5RaGk5"
      }
    },
    {
      "cell_type": "code",
      "source": [
        "class BankAccount:\n",
        "    def __init__(self, initial_balance=0):\n",
        "        self.__balance = initial_balance  # Private attribute\n",
        "\n",
        "    def deposit(self, amount):\n",
        "        if amount > 0:\n",
        "            self.__balance += amount\n",
        "            print(f\"Deposited {amount}. New balance: {self.__balance}\")\n",
        "        else:\n",
        "            print(\"Invalid deposit amount.\")\n",
        "\n",
        "    def withdraw(self, amount):\n",
        "        if 0 < amount <= self.__balance:\n",
        "            self.__balance -= amount\n",
        "            print(f\"Withdrew {amount}. New balance: {self.__balance}\")\n",
        "        else:\n",
        "            print(\"Insufficient funds or invalid withdrawal amount.\")\n",
        "\n",
        "    def check_balance(self):\n",
        "        print(f\"Current balance: {self.__balance}\")\n",
        "\n",
        "# Example usage\n",
        "account = BankAccount(1000)\n",
        "account.deposit(500)  # Output: Deposited 500. New balance: 1500\n",
        "account.withdraw(200)  # Output: Withdrew 200. New balance: 1300\n",
        "account.check_balance()  # Output: Current balance: 1300\n",
        "account.withdraw(2000) # Output: Insufficient funds or invalid withdrawal amount.\n"
      ],
      "metadata": {
        "colab": {
          "base_uri": "https://localhost:8080/"
        },
        "id": "K1gvUqox53Wk",
        "outputId": "5bc824b6-ee62-42bf-a3fb-23f3eda0f118"
      },
      "execution_count": null,
      "outputs": [
        {
          "output_type": "stream",
          "name": "stdout",
          "text": [
            "Deposited 500. New balance: 1500\n",
            "Withdrew 200. New balance: 1300\n",
            "Current balance: 1300\n",
            "Insufficient funds or invalid withdrawal amount.\n"
          ]
        }
      ]
    },
    {
      "cell_type": "markdown",
      "source": [
        "6. Demonstrate runtime polymorphism using a method play() in a base class Instrument. Derive classes Guitar and Piano that implement their own version of play()."
      ],
      "metadata": {
        "id": "ODK-AJwkaKE5"
      }
    },
    {
      "cell_type": "code",
      "source": [
        "from abc import ABC, abstractmethod\n",
        "\n",
        "class Instrument(ABC):\n",
        "    @abstractmethod\n",
        "    def play(self):\n",
        "        pass\n",
        "\n",
        "class Guitar(Instrument):\n",
        "    def play(self):\n",
        "        print(\"Playing the guitar\")\n",
        "\n",
        "class Piano(Instrument):\n",
        "    def play(self):\n",
        "        print(\"Playing the piano\")\n",
        "\n",
        "# Example usage\n",
        "guitar = Guitar()\n",
        "guitar.play()  # Output: Playing the guitar\n",
        "\n",
        "piano = Piano()\n",
        "piano.play()  # Output: Playing the piano\n",
        "\n",
        "instruments = [Guitar(), Piano()]\n",
        "for instrument in instruments:\n",
        "    instrument.play()"
      ],
      "metadata": {
        "colab": {
          "base_uri": "https://localhost:8080/"
        },
        "id": "Q8WP3LDd6F1k",
        "outputId": "c798464e-2522-493c-b887-b0c7c6dedb9c"
      },
      "execution_count": null,
      "outputs": [
        {
          "output_type": "stream",
          "name": "stdout",
          "text": [
            "Playing the guitar\n",
            "Playing the piano\n",
            "Playing the guitar\n",
            "Playing the piano\n"
          ]
        }
      ]
    },
    {
      "cell_type": "markdown",
      "source": [
        "7. Create a class MathOperations with a class method add_numbers() to add two numbers and a static method subtract_numbers() to subtract two numbers."
      ],
      "metadata": {
        "id": "8tJXym9HaNqo"
      }
    },
    {
      "cell_type": "code",
      "source": [
        "class MathOperations:\n",
        "    @classmethod\n",
        "    def add_numbers(cls, x, y):\n",
        "        return x + y\n",
        "\n",
        "    @staticmethod\n",
        "    def subtract_numbers(x, y):\n",
        "        return x - y\n"
      ],
      "metadata": {
        "id": "N2Fy064XaRVJ"
      },
      "execution_count": null,
      "outputs": []
    },
    {
      "cell_type": "markdown",
      "source": [
        "8. Implement a class Person with a class method to count the total number of persons created."
      ],
      "metadata": {
        "id": "lZhgQd0MaR0i"
      }
    },
    {
      "cell_type": "code",
      "source": [
        "class Person:\n",
        "    count = 0  # Class variable to track the number of persons\n",
        "\n",
        "    def __init__(self, name):\n",
        "        self.name = name\n",
        "        Person.count += 1  # Increment the count when a new person is created\n",
        "\n",
        "    @classmethod\n",
        "    def get_person_count(cls):\n",
        "        return cls.count\n",
        "\n",
        "# Example usage\n",
        "person1 = Person(\"Alice\")\n",
        "person2 = Person(\"Bob\")\n",
        "person3 = Person(\"Charlie\")\n",
        "\n",
        "print(f\"Total number of persons: {Person.get_person_count()}\")  # Output: 3\n"
      ],
      "metadata": {
        "id": "n0ua4cv3aVdg",
        "colab": {
          "base_uri": "https://localhost:8080/"
        },
        "outputId": "259617e0-2dba-4658-dcb5-66f58d249eac"
      },
      "execution_count": null,
      "outputs": [
        {
          "output_type": "stream",
          "name": "stdout",
          "text": [
            "Total number of persons: 3\n"
          ]
        }
      ]
    },
    {
      "cell_type": "markdown",
      "source": [
        "9. Write a class Fraction with attributes numerator and denominator. Override the str method to display the fraction as \"numerator/denominator\""
      ],
      "metadata": {
        "id": "UkmLviAnaVyp"
      }
    },
    {
      "cell_type": "code",
      "source": [
        "class Fraction:\n",
        "    def __init__(self, numerator, denominator):\n",
        "        self.numerator = numerator\n",
        "        self.denominator = denominator\n",
        "\n",
        "    def __str__(self):\n",
        "        return f\"{self.numerator}/{self.denominator}\"\n"
      ],
      "metadata": {
        "id": "5Gavt2Jb6ttV"
      },
      "execution_count": null,
      "outputs": []
    },
    {
      "cell_type": "markdown",
      "source": [
        "10. Demonstrate operator overloading by creating a class Vector and overriding the add method to add two vectors"
      ],
      "metadata": {
        "id": "EbFQuCBoaZyK"
      }
    },
    {
      "cell_type": "code",
      "source": [
        "class Vector:\n",
        "    def __init__(self, x, y):\n",
        "        self.x = x\n",
        "        self.y = y\n",
        "\n",
        "    def __add__(self, other):\n",
        "        return Vector(self.x + other.x, self.y + other.y)\n",
        "\n",
        "    def __str__(self):\n",
        "        return f\"({self.x}, {self.y})\"\n",
        "\n",
        "# Example usage\n",
        "v1 = Vector(1, 2)\n",
        "v2 = Vector(3, 4)\n",
        "v3 = v1 + v2\n",
        "print(v3)  # Output: (4, 6)"
      ],
      "metadata": {
        "colab": {
          "base_uri": "https://localhost:8080/"
        },
        "id": "lWxULE5G66ou",
        "outputId": "c0b0745a-a8a7-485c-b8ba-0bbc53bbbe23"
      },
      "execution_count": null,
      "outputs": [
        {
          "output_type": "stream",
          "name": "stdout",
          "text": [
            "(4, 6)\n"
          ]
        }
      ]
    },
    {
      "cell_type": "markdown",
      "source": [
        "11. Create a class Person with attributes name and age. Add a method greet() that prints \"Hello, my name is {name} and I am {age} years old.\""
      ],
      "metadata": {
        "id": "Pdfcjo6zaeDK"
      }
    },
    {
      "cell_type": "code",
      "source": [
        "class Person:\n",
        "    def __init__(self, name, age):\n",
        "        self.name = name\n",
        "        self.age = age\n",
        "\n",
        "    def greet(self):\n",
        "        print(f\"Hello, my name is {self.name} and I am {self.age} years old.\")\n"
      ],
      "metadata": {
        "id": "JtLuf8tA7xH7"
      },
      "execution_count": null,
      "outputs": []
    },
    {
      "cell_type": "markdown",
      "source": [
        "12. Implement a class Student with attributes name and grades. Create a method average_grade() to compute the average of the grades."
      ],
      "metadata": {
        "id": "XGhYik-Yaidj"
      }
    },
    {
      "cell_type": "code",
      "source": [
        "class Student:\n",
        "    def __init__(self, name, grades):\n",
        "        # Initialize the name and grades attributes\n",
        "        self.name = name\n",
        "        self.grades = grades\n",
        "\n",
        "    def average_grade(self):\n",
        "        # Compute the average of the grades\n",
        "        if len(self.grades) == 0:\n",
        "            return 0  # Prevent division by zero if there are no grades\n",
        "        return sum(self.grades) / len(self.grades)\n",
        "\n",
        "# Example usage:\n",
        "student1 = Student(\"Alice\", [90, 85, 88, 92])\n",
        "student2 = Student(\"Bob\", [78, 82, 85, 88, 90])\n",
        "\n",
        "print(f\"{student1.name}'s average grade: {student1.average_grade()}\")\n",
        "print(f\"{student2.name}'s average grade: {student2.average_grade()}\")\n"
      ],
      "metadata": {
        "colab": {
          "base_uri": "https://localhost:8080/"
        },
        "id": "fwCCvcS5a1Ex",
        "outputId": "f3d4704c-9a59-4682-91e0-027d138ae227"
      },
      "execution_count": null,
      "outputs": [
        {
          "output_type": "stream",
          "name": "stdout",
          "text": [
            "Alice's average grade: 88.75\n",
            "Bob's average grade: 84.6\n"
          ]
        }
      ]
    },
    {
      "cell_type": "markdown",
      "source": [
        "13. Create a class Rectangle with methods set_dimensions() to set the dimensions and area() to calculate the area."
      ],
      "metadata": {
        "id": "p0olIHxFa1ug"
      }
    },
    {
      "cell_type": "code",
      "source": [
        "class Rectangle:\n",
        "    def __init__(self):\n",
        "        self.length = 0\n",
        "        self.width = 0\n",
        "\n",
        "    def set_dimensions(self, length, width):\n",
        "        self.length = length\n",
        "        self.width = width\n",
        "\n",
        "    def area(self):\n",
        "        return self.length * self.width\n",
        "\n",
        "# Example usage:\n",
        "rect = Rectangle()\n",
        "rect.set_dimensions(5, 3)\n",
        "print(\"Area of the rectangle:\", rect.area())  # Output: 15\n"
      ],
      "metadata": {
        "colab": {
          "base_uri": "https://localhost:8080/"
        },
        "id": "E73Lvod-a5Ap",
        "outputId": "0ce8ab0d-3161-4fa9-cfe0-ba2c42fa9235"
      },
      "execution_count": null,
      "outputs": [
        {
          "output_type": "stream",
          "name": "stdout",
          "text": [
            "Area of the rectangle: 15\n"
          ]
        }
      ]
    },
    {
      "cell_type": "markdown",
      "source": [
        "14. Create a class Employee with a method calculate_salary() that computes the salary based on hours worked and hourly rate. Create a derived class Manager that adds a bonus to the salary."
      ],
      "metadata": {
        "id": "3eECNl0Sa5nS"
      }
    },
    {
      "cell_type": "code",
      "source": [
        "# Base class Employee\n",
        "class Employee:\n",
        "    def __init__(self, name, hours_worked, hourly_rate):\n",
        "        self.name = name\n",
        "        self.hours_worked = hours_worked\n",
        "        self.hourly_rate = hourly_rate\n",
        "\n",
        "    def calculate_salary(self):\n",
        "        return self.hours_worked * self.hourly_rate\n",
        "\n",
        "# Derived class Manager\n",
        "class Manager(Employee):\n",
        "    def __init__(self, name, hours_worked, hourly_rate, bonus):\n",
        "        # Initialize base class (Employee)\n",
        "        super().__init__(name, hours_worked, hourly_rate)\n",
        "        self.bonus = bonus\n",
        "\n",
        "    def calculate_salary(self):\n",
        "        base_salary = super().calculate_salary()  # Calculate the base salary from the Employee class\n",
        "        return base_salary + self.bonus  # Add the bonus to the base salary\n",
        "\n",
        "# Example Usage:\n",
        "employee = Employee(\"John\", 40, 15)  # 40 hours at $15 per hour\n",
        "manager = Manager(\"Sarah\", 40, 20, 500)  # 40 hours at $20 per hour with a $500 bonus\n",
        "\n",
        "print(f\"{employee.name}'s salary: ${employee.calculate_salary()}\")\n",
        "print(f\"{manager.name}'s salary: ${manager.calculate_salary()}\")\n"
      ],
      "metadata": {
        "colab": {
          "base_uri": "https://localhost:8080/"
        },
        "id": "gOKjNA3Oa8uq",
        "outputId": "583d77b3-9b0f-4840-b60b-0c0e65d64b0b"
      },
      "execution_count": null,
      "outputs": [
        {
          "output_type": "stream",
          "name": "stdout",
          "text": [
            "John's salary: $600\n",
            "Sarah's salary: $1300\n"
          ]
        }
      ]
    },
    {
      "cell_type": "markdown",
      "source": [
        "15. Create a class Product with attributes name, price, and quantity. Implement a method total_price() that calculates the total price of the product."
      ],
      "metadata": {
        "id": "uhOAvtg7a9Pp"
      }
    },
    {
      "cell_type": "code",
      "source": [
        "class Product:\n",
        "    def __init__(self, name, price, quantity):\n",
        "        self.name = name\n",
        "        self.price = price\n",
        "        self.quantity = quantity\n",
        "\n",
        "    def total_price(self):\n",
        "        return self.price * self.quantity\n",
        "\n",
        "# Example usage:\n",
        "product = Product(\"Laptop\", 1000, 3)\n",
        "print(f\"Total price of {product.name}: ${product.total_price()}\")\n"
      ],
      "metadata": {
        "colab": {
          "base_uri": "https://localhost:8080/"
        },
        "id": "SG3qnwa8bAWB",
        "outputId": "65cb6a7e-abe3-4a03-92eb-f97c033bcbfd"
      },
      "execution_count": null,
      "outputs": [
        {
          "output_type": "stream",
          "name": "stdout",
          "text": [
            "Total price of Laptop: $3000\n"
          ]
        }
      ]
    },
    {
      "cell_type": "markdown",
      "source": [
        "16. Create a class Animal with an abstract method sound(). Create two derived classes Cow and Sheep that implement the sound() method."
      ],
      "metadata": {
        "id": "hnFjoo57bA5a"
      }
    },
    {
      "cell_type": "code",
      "source": [
        "from abc import ABC, abstractmethod\n",
        "\n",
        "# Abstract base class Animal\n",
        "class Animal(ABC):\n",
        "    @abstractmethod\n",
        "    def sound(self):\n",
        "        pass\n",
        "\n",
        "# Derived class Cow\n",
        "class Cow(Animal):\n",
        "    def sound(self):\n",
        "        return \"Moo\"\n",
        "\n",
        "# Derived class Sheep\n",
        "class Sheep(Animal):\n",
        "    def sound(self):\n",
        "        return \"Baa\"\n",
        "\n",
        "# Testing the classes\n",
        "cow = Cow()\n",
        "sheep = Sheep()\n",
        "\n",
        "print(f\"Cow says: {cow.sound()}\")\n",
        "print(f\"Sheep says: {sheep.sound()}\")\n"
      ],
      "metadata": {
        "colab": {
          "base_uri": "https://localhost:8080/"
        },
        "id": "JNJboJXUbDyB",
        "outputId": "cc93d2e7-218b-400e-d93e-1bf83cc34b1f"
      },
      "execution_count": null,
      "outputs": [
        {
          "output_type": "stream",
          "name": "stdout",
          "text": [
            "Cow says: Moo\n",
            "Sheep says: Baa\n"
          ]
        }
      ]
    },
    {
      "cell_type": "markdown",
      "source": [
        "17. Create a class Book with attributes title, author, and year_published. Add a method get_book_info() that returns a formatted string with the book's details."
      ],
      "metadata": {
        "id": "SpTMu9UqbEtJ"
      }
    },
    {
      "cell_type": "code",
      "source": [
        "class Book:\n",
        "    def __init__(self, title, author, year_published):\n",
        "        self.title = title\n",
        "        self.author = author\n",
        "        self.year_published = year_published\n",
        "\n",
        "    def get_book_info(self):\n",
        "        return f\"Title: {self.title}\\nAuthor: {self.author}\\nYear Published: {self.year_published}\"\n",
        "    # Creating a book instance\n",
        "book1 = Book(\"To Kill a Mockingbird\", \"Harper Lee\", 1960)\n",
        "\n",
        "# Getting the book information\n",
        "print(book1.get_book_info())\n",
        "\n"
      ],
      "metadata": {
        "colab": {
          "base_uri": "https://localhost:8080/"
        },
        "id": "Is1gIlkJbHJx",
        "outputId": "f21e2f37-c120-4adc-f68c-5720042bdf92"
      },
      "execution_count": null,
      "outputs": [
        {
          "output_type": "stream",
          "name": "stdout",
          "text": [
            "Title: To Kill a Mockingbird\n",
            "Author: Harper Lee\n",
            "Year Published: 1960\n"
          ]
        }
      ]
    },
    {
      "cell_type": "markdown",
      "source": [
        "18. Create a class House with attributes address and price. Create a derived class Mansion that adds an attribute number_of_rooms."
      ],
      "metadata": {
        "id": "Moq5blVObHbi"
      }
    },
    {
      "cell_type": "code",
      "source": [
        "# Base class\n",
        "class House:\n",
        "    def __init__(self, address, price):\n",
        "        self.address = address\n",
        "        self.price = price\n",
        "\n",
        "    def display_info(self):\n",
        "        print(f\"Address: {self.address}\")\n",
        "        print(f\"Price: ${self.price}\")\n",
        "\n",
        "# Derived class\n",
        "class Mansion(House):\n",
        "    def __init__(self, address, price, number_of_rooms):\n",
        "        # Call the initializer of the base class (House)\n",
        "        super().__init__(address, price)\n",
        "        self.number_of_rooms = number_of_rooms\n",
        "\n",
        "    def display_info(self):\n",
        "        # Call the display_info method of the base class\n",
        "        super().display_info()\n",
        "        print(f\"Number of Rooms: {self.number_of_rooms}\")\n",
        "\n",
        "# Example usage\n",
        "house = House(\"123 Main St\", 300000)\n",
        "house.display_info()\n",
        "\n",
        "print(\"\\n--- Mansion ---\")\n",
        "\n",
        "mansion = Mansion(\"456 Lux Ave\", 1500000, 10)\n",
        "mansion.display_info()\n"
      ],
      "metadata": {
        "colab": {
          "base_uri": "https://localhost:8080/"
        },
        "id": "YJjHbXC-bpWm",
        "outputId": "f212e5a6-0ae5-4325-f692-1c9e086ec896"
      },
      "execution_count": null,
      "outputs": [
        {
          "output_type": "stream",
          "name": "stdout",
          "text": [
            "Address: 123 Main St\n",
            "Price: $300000\n",
            "\n",
            "--- Mansion ---\n",
            "Address: 456 Lux Ave\n",
            "Price: $1500000\n",
            "Number of Rooms: 10\n"
          ]
        }
      ]
    }
  ]
}